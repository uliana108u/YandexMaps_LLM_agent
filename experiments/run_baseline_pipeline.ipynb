{
 "cells": [
  {
   "cell_type": "markdown",
   "id": "73c9a9dc-4b1a-41f0-b515-1e12d3f56dfc",
   "metadata": {},
   "source": [
    "# notebook: run_baseline_pipeline.ipynb"
   ]
  },
  {
   "cell_type": "code",
   "execution_count": 2,
   "id": "0601bd60-a072-4e59-a0a4-cb81a263cc75",
   "metadata": {
    "tags": []
   },
   "outputs": [
    {
     "name": "stdout",
     "output_type": "stream",
     "text": [
      "OPENAI_API_KEY загружен.\n",
      "Данные загружены. Train: 29592, Val: 299, Test: 500\n",
      "Запуск на валидации...\n"
     ]
    },
    {
     "data": {
      "application/vnd.jupyter.widget-view+json": {
       "model_id": "556f443713ac4b91bd2d0253f4bc38e3",
       "version_major": 2,
       "version_minor": 0
      },
      "text/plain": [
       "Evaluating batches:   0%|          | 0/60 [00:00<?, ?it/s]"
      ]
     },
     "metadata": {},
     "output_type": "display_data"
    },
    {
     "name": "stdout",
     "output_type": "stream",
     "text": [
      "Accuracy (по 299 примерам): 0.6856\n",
      "Validation accuracy: 0.6856\n",
      "Запуск на тесте...\n"
     ]
    },
    {
     "data": {
      "application/vnd.jupyter.widget-view+json": {
       "model_id": "fa0794d89d9946cfa3edd3d430af428a",
       "version_major": 2,
       "version_minor": 0
      },
      "text/plain": [
       "Evaluating batches:   0%|          | 0/100 [00:00<?, ?it/s]"
      ]
     },
     "metadata": {},
     "output_type": "display_data"
    },
    {
     "name": "stdout",
     "output_type": "stream",
     "text": [
      "Accuracy (по 500 примерам): 0.7840\n",
      "Test accuracy: 0.7840\n",
      "Результаты сохранены в D:\\My_courses\\DLS_NLP_24\\llm_relevance_agent\\experiments\n"
     ]
    }
   ],
   "source": [
    "# --- 1. Настройка окружения и импорт ---\n",
    "import os\n",
    "import sys\n",
    "import pandas as pd\n",
    "\n",
    "# Добавляем путь к проекту, чтобы можно было импортировать из utils\n",
    "try:\n",
    "    CURRENT_DIR = os.path.dirname(os.path.abspath(__file__))\n",
    "except NameError:\n",
    "    CURRENT_DIR = os.getcwd()\n",
    "    \n",
    "BASE_DIR = os.path.abspath(os.path.join(CURRENT_DIR, \"..\"))\n",
    "if BASE_DIR not in sys.path:\n",
    "    sys.path.insert(0, BASE_DIR)\n",
    "    \n",
    "from utils.data_loader import load_dataset\n",
    "from utils.config import BASE_DIR, DATA_PATH, EXPERIMENTS_DIR, ENV_PATH\n",
    "from baseline.core import RelevanceBaseline\n",
    "from dotenv import load_dotenv\n",
    "load_dotenv(ENV_PATH) # загружаем .env\n",
    "\n",
    "# --- 2. Проверка API ключа ---\n",
    "openai_key = os.getenv(\"OPENAI_API_KEY\")\n",
    "if openai_key is None:\n",
    "    raise ValueError(\"OPENAI_API_KEY не найден в .env файле\")\n",
    "\n",
    "print(\"OPENAI_API_KEY загружен.\")\n",
    "\n",
    "\n",
    "# --- 3. Загрузка данных ---\n",
    "if not os.path.exists(DATA_PATH):\n",
    "    raise FileNotFoundError(f\"Файл с данными не найден: {DATA_PATH}\")\n",
    "\n",
    "train_data, val_data, test_data = load_dataset(DATA_PATH, drop_uncertain=True, val_frac=0.01)\n",
    "print(f\"Данные загружены. Train: {len(train_data)}, Val: {len(val_data)}, Test: {len(test_data)}\")\n",
    "\n",
    "# --- 4. Инициализация модели (бейзлайна) ---\n",
    "baseline = RelevanceBaseline()\n",
    "\n",
    "# --- 5. Оценка на валидации ---\n",
    "print(\"Запуск на валидации...\")\n",
    "val_preds, val_acc = baseline.run_full_evaluation(val_data, batch_size=5)\n",
    "print(f\"Validation accuracy: {val_acc:.4f}\")\n",
    "\n",
    "# --- 6. Оценка на тесте ---\n",
    "print(\"Запуск на тесте...\")\n",
    "test_preds, test_acc = baseline.run_full_evaluation(test_data, batch_size=5)\n",
    "print(f\"Test accuracy: {test_acc:.4f}\")\n",
    "\n",
    "# --- 7. Сохранение результатов ---\n",
    "os.makedirs(EXPERIMENTS_DIR, exist_ok=True)\n",
    "val_preds.to_csv(os.path.join(EXPERIMENTS_DIR, \"baseline_val_predictions.csv\"), index=False)\n",
    "test_preds.to_csv(os.path.join(EXPERIMENTS_DIR, \"baseline_test_predictions.csv\"), index=False)\n",
    "print(f\"Результаты сохранены в {EXPERIMENTS_DIR}\")  "
   ]
  },
  {
   "cell_type": "code",
   "execution_count": 3,
   "id": "704e6dca-1502-4eb0-b44b-3404edfef23d",
   "metadata": {
    "tags": []
   },
   "outputs": [
    {
     "data": {
      "text/plain": [
       "'Стоимость данного прогона в vsegpt 49.554 рублей'"
      ]
     },
     "execution_count": 3,
     "metadata": {},
     "output_type": "execute_result"
    }
   ],
   "source": [
    "f'Стоимость данного прогона в vsegpt {198.839580 - 149.285580} рублей'"
   ]
  }
 ],
 "metadata": {
  "kernelspec": {
   "display_name": "Python 3 (ipykernel)",
   "language": "python",
   "name": "python3"
  },
  "language_info": {
   "codemirror_mode": {
    "name": "ipython",
    "version": 3
   },
   "file_extension": ".py",
   "mimetype": "text/x-python",
   "name": "python",
   "nbconvert_exporter": "python",
   "pygments_lexer": "ipython3",
   "version": "3.12.2"
  }
 },
 "nbformat": 4,
 "nbformat_minor": 5
}
